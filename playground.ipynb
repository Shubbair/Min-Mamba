{
 "cells": [
  {
   "cell_type": "code",
   "execution_count": 1,
   "metadata": {},
   "outputs": [
    {
     "name": "stdout",
     "output_type": "stream",
     "text": [
      "Requirement already satisfied: pip in /opt/homebrew/lib/python3.11/site-packages (24.0)\n"
     ]
    }
   ],
   "source": [
    "!pip install --upgrade pip"
   ]
  },
  {
   "cell_type": "code",
   "execution_count": 2,
   "metadata": {},
   "outputs": [
    {
     "name": "stdout",
     "output_type": "stream",
     "text": [
      "Requirement already satisfied: jax in /opt/homebrew/lib/python3.11/site-packages (0.4.23)\n",
      "Requirement already satisfied: jaxlib in /opt/homebrew/lib/python3.11/site-packages (0.4.23)\n",
      "Requirement already satisfied: ml-dtypes>=0.2.0 in /opt/homebrew/lib/python3.11/site-packages (from jax) (0.3.2)\n",
      "Requirement already satisfied: numpy>=1.22 in /opt/homebrew/lib/python3.11/site-packages (from jax) (1.26.2)\n",
      "Requirement already satisfied: opt-einsum in /opt/homebrew/lib/python3.11/site-packages (from jax) (3.3.0)\n",
      "Requirement already satisfied: scipy>=1.9 in /opt/homebrew/lib/python3.11/site-packages (from jax) (1.11.0)\n",
      "Requirement already satisfied: flax in /opt/homebrew/lib/python3.11/site-packages (0.8.0)\n",
      "Requirement already satisfied: numpy>=1.22 in /opt/homebrew/lib/python3.11/site-packages (from flax) (1.26.2)\n",
      "Requirement already satisfied: jax>=0.4.19 in /opt/homebrew/lib/python3.11/site-packages (from flax) (0.4.23)\n",
      "Requirement already satisfied: msgpack in /opt/homebrew/lib/python3.11/site-packages (from flax) (1.0.7)\n",
      "Requirement already satisfied: optax in /opt/homebrew/lib/python3.11/site-packages (from flax) (0.1.8)\n",
      "Requirement already satisfied: orbax-checkpoint in /opt/homebrew/lib/python3.11/site-packages (from flax) (0.5.2)\n",
      "Requirement already satisfied: tensorstore in /opt/homebrew/lib/python3.11/site-packages (from flax) (0.1.52)\n",
      "Requirement already satisfied: rich>=11.1 in /opt/homebrew/lib/python3.11/site-packages (from flax) (13.5.2)\n",
      "Requirement already satisfied: typing-extensions>=4.2 in /opt/homebrew/lib/python3.11/site-packages (from flax) (4.8.0)\n",
      "Requirement already satisfied: PyYAML>=5.4.1 in /opt/homebrew/lib/python3.11/site-packages (from flax) (6.0.1)\n",
      "Requirement already satisfied: ml-dtypes>=0.2.0 in /opt/homebrew/lib/python3.11/site-packages (from jax>=0.4.19->flax) (0.3.2)\n",
      "Requirement already satisfied: opt-einsum in /opt/homebrew/lib/python3.11/site-packages (from jax>=0.4.19->flax) (3.3.0)\n",
      "Requirement already satisfied: scipy>=1.9 in /opt/homebrew/lib/python3.11/site-packages (from jax>=0.4.19->flax) (1.11.0)\n",
      "Requirement already satisfied: markdown-it-py>=2.2.0 in /opt/homebrew/lib/python3.11/site-packages (from rich>=11.1->flax) (3.0.0)\n",
      "Requirement already satisfied: pygments<3.0.0,>=2.13.0 in /Users/shubbair/Library/Python/3.11/lib/python/site-packages (from rich>=11.1->flax) (2.15.1)\n",
      "Requirement already satisfied: absl-py>=0.7.1 in /opt/homebrew/lib/python3.11/site-packages (from optax->flax) (1.4.0)\n",
      "Requirement already satisfied: chex>=0.1.7 in /opt/homebrew/lib/python3.11/site-packages (from optax->flax) (0.1.8)\n",
      "Requirement already satisfied: jaxlib>=0.1.37 in /opt/homebrew/lib/python3.11/site-packages (from optax->flax) (0.4.23)\n",
      "Requirement already satisfied: etils[epath,epy] in /opt/homebrew/lib/python3.11/site-packages (from orbax-checkpoint->flax) (1.5.1)\n",
      "Requirement already satisfied: nest_asyncio in /Users/shubbair/Library/Python/3.11/lib/python/site-packages (from orbax-checkpoint->flax) (1.5.6)\n",
      "Requirement already satisfied: protobuf in /opt/homebrew/lib/python3.11/site-packages (from orbax-checkpoint->flax) (4.25.1)\n",
      "Requirement already satisfied: dm-tree>=0.1.5 in /opt/homebrew/lib/python3.11/site-packages (from chex>=0.1.7->optax->flax) (0.1.8)\n",
      "Requirement already satisfied: toolz>=0.9.0 in /opt/homebrew/lib/python3.11/site-packages (from chex>=0.1.7->optax->flax) (0.12.0)\n",
      "Requirement already satisfied: mdurl~=0.1 in /opt/homebrew/lib/python3.11/site-packages (from markdown-it-py>=2.2.0->rich>=11.1->flax) (0.1.2)\n",
      "Requirement already satisfied: fsspec in /opt/homebrew/lib/python3.11/site-packages (from etils[epath,epy]->orbax-checkpoint->flax) (2023.6.0)\n",
      "Requirement already satisfied: importlib_resources in /opt/homebrew/lib/python3.11/site-packages (from etils[epath,epy]->orbax-checkpoint->flax) (6.1.0)\n",
      "Requirement already satisfied: zipp in /opt/homebrew/lib/python3.11/site-packages (from etils[epath,epy]->orbax-checkpoint->flax) (3.16.2)\n"
     ]
    }
   ],
   "source": [
    "!pip install --upgrade jax jaxlib\n",
    "!pip install --upgrade flax"
   ]
  },
  {
   "cell_type": "markdown",
   "metadata": {},
   "source": [
    "# Mamba Architecture\n",
    "<img src=\"assets/mamba_architecture.png\"/>"
   ]
  },
  {
   "cell_type": "markdown",
   "metadata": {},
   "source": [
    "as we can see from the architecture the new is \n",
    "**SSM (Structured State Space Model)** : \n",
    "are at the core of Mamba, so it is important to note how they work. You can think of them as the replacement for the self attention mechanism in a transformer,<br/><br/>\n",
    "\n",
    "A state space model takes in a 1D input sequence, maps to a N-D latent space and then projects back to a 1D output sequence.<br/><br/>\n",
    "<img src=\"assets/statespace.png\" width=\"50%\"/>\n",
    "<br/><br/>\n",
    "<h1>SSMs</h1>\n",
    "like S4 can be defined as through these equations: \n",
    "\n",
    "\\begin{align*}\n",
    "h'(t) &= Ah(t) + Bx(t) \\\\\n",
    "y(t) &= Ch(t)\n",
    "\\end{align*}\n",
    "\n",
    "<p>the first equation : </p>\n",
    "<img src=\"assets/ht.png\"/>\n",
    "\n",
    "<p>the second equation : </p>\n",
    "<img src=\"assets/yt.png\" width=\"80%\"/>\n"
   ]
  },
  {
   "cell_type": "markdown",
   "metadata": {},
   "source": [
    "## Lets Implement SSM here"
   ]
  },
  {
   "cell_type": "code",
   "execution_count": 6,
   "metadata": {},
   "outputs": [],
   "source": [
    "def random_SSM(N):\n",
    "    a_r, b_r, c_r = jax.random.split(key, 3)\n",
    "    A = jax.random.uniform(a_r, (N, N))\n",
    "    B = jax.random.uniform(b_r, (N, 1))\n",
    "    C = jax.random.uniform(c_r, (1, N))\n",
    "    return A, B, C"
   ]
  },
  {
   "cell_type": "code",
   "execution_count": 24,
   "metadata": {},
   "outputs": [
    {
     "data": {
      "text/plain": [
       "(Array([[0.6013386 , 0.33307862],\n",
       "        [0.08670855, 0.5839832 ]], dtype=float32),\n",
       " Array([[0.02978921],\n",
       "        [0.03150713]], dtype=float32),\n",
       " Array([[0.14587104, 0.45987797]], dtype=float32))"
      ]
     },
     "execution_count": 24,
     "metadata": {},
     "output_type": "execute_result"
    }
   ],
   "source": [
    "random_SSM(2)"
   ]
  },
  {
   "cell_type": "markdown",
   "metadata": {},
   "source": [
    "## Discretize\n",
    "\n",
    "\\begin{align*}\n",
    "    A & = \\exp(\\Delta A) \\\\\n",
    "    B & = (\\Delta A)^{-1} (\\exp(\\Delta A) - I) \\cdot \\Delta B\n",
    "\\end{align*}"
   ]
  },
  {
   "cell_type": "code",
   "execution_count": 13,
   "metadata": {},
   "outputs": [],
   "source": [
    "import jax\n",
    "import jax.numpy as np\n",
    "import flax\n",
    "import flax.linen as nn\n",
    "import numpy as npy\n",
    "\n",
    "seed = 1701\n",
    "key = jax.random.PRNGKey(seed)"
   ]
  },
  {
   "cell_type": "code",
   "execution_count": 5,
   "metadata": {},
   "outputs": [],
   "source": [
    "def discretize(A, B, delta):\n",
    "    A_delta = np.exp(A @ delta)\n",
    "    \n",
    "    inverse_delta_A = np.linalg.inv(Delta @ A)\n",
    "    B_delta = (A_delta - np.eye(A.shape[0])) @ inverse_delta_A @ Delta @ B\n",
    "     \n",
    "    return A_delta, B_delta"
   ]
  },
  {
   "cell_type": "code",
   "execution_count": 14,
   "metadata": {},
   "outputs": [],
   "source": [
    "# Example usage\n",
    "D = 3  # Replace with actual dimensions\n",
    "N = 3  # Replace with actual dimensions\n",
    "\n",
    "A = npy.random.rand(D, N)  # Replace with actual values\n",
    "Delta = npy.random.rand(D, D)  # Replace with actual values\n",
    "B = npy.random.rand(D, N)  # Replace with actual values\n",
    "\n",
    "A_delta, B_delta = discretize(A,B,Delta)"
   ]
  },
  {
   "cell_type": "code",
   "execution_count": 15,
   "metadata": {},
   "outputs": [
    {
     "data": {
      "text/plain": [
       "Array([[2.362534 , 2.028057 , 1.9282295],\n",
       "       [2.0856898, 1.8411039, 1.7657193],\n",
       "       [1.4537508, 1.3298508, 1.2956617]], dtype=float32)"
      ]
     },
     "execution_count": 15,
     "metadata": {},
     "output_type": "execute_result"
    }
   ],
   "source": [
    "A_delta"
   ]
  },
  {
   "cell_type": "code",
   "execution_count": 16,
   "metadata": {},
   "outputs": [
    {
     "data": {
      "text/plain": [
       "array([[0.64168341, 0.65988684, 0.67452471],\n",
       "       [0.5218893 , 0.58767281, 0.55691602],\n",
       "       [0.37728629, 0.20435282, 0.35816538]])"
      ]
     },
     "execution_count": 16,
     "metadata": {},
     "output_type": "execute_result"
    }
   ],
   "source": [
    "A"
   ]
  },
  {
   "cell_type": "code",
   "execution_count": 17,
   "metadata": {},
   "outputs": [],
   "source": [
    "def scan_SSM(Ab, Bb, Cb, u, x0):\n",
    "    def step(x_k_1, u_k):\n",
    "        x_k = Ab @ x_k_1 + Bb @ u_k\n",
    "        y_k = Cb @ x_k\n",
    "        return x_k, y_k\n",
    "\n",
    "    return jax.lax.scan(step, x0, u)"
   ]
  },
  {
   "cell_type": "code",
   "execution_count": 18,
   "metadata": {},
   "outputs": [],
   "source": [
    "def run_SSM(A, B, C, u):\n",
    "    L = u.shape[0]\n",
    "    N = A.shape[0]\n",
    "    Ab, Bb, Cb = discretize(A, B, C, step=1.0 / L)\n",
    "\n",
    "    # Run recurrence\n",
    "    return scan_SSM(Ab, Bb, Cb, u[:, np.newaxis], np.zeros((N,)))[1]"
   ]
  },
  {
   "cell_type": "code",
   "execution_count": 19,
   "metadata": {},
   "outputs": [],
   "source": [
    "def K_conv(Ab, Bb, Cb, L):\n",
    "    return np.array(\n",
    "        [(Cb @ matrix_power(Ab, l) @ Bb).reshape() for l in range(L)]\n",
    "    )"
   ]
  },
  {
   "cell_type": "code",
   "execution_count": 20,
   "metadata": {},
   "outputs": [],
   "source": [
    "def causal_convolution(u, K, nofft=False):\n",
    "    if nofft:\n",
    "        return convolve(u, K, mode=\"full\")[: u.shape[0]]\n",
    "    else:\n",
    "        assert K.shape[0] == u.shape[0]\n",
    "        ud = np.fft.rfft(np.pad(u, (0, K.shape[0])))\n",
    "        Kd = np.fft.rfft(np.pad(K, (0, u.shape[0])))\n",
    "        out = ud * Kd\n",
    "        return np.fft.irfft(out)[: u.shape[0]]"
   ]
  },
  {
   "cell_type": "code",
   "execution_count": 22,
   "metadata": {},
   "outputs": [],
   "source": [
    "class SSMLayer(nn.Module):\n",
    "    N: int\n",
    "    l_max: int\n",
    "    decode: bool = False\n",
    "\n",
    "    def setup(self):\n",
    "        # SSM parameters\n",
    "        self.A = self.param(\"A\", lecun_normal(), (self.N, self.N))\n",
    "        self.B = self.param(\"B\", lecun_normal(), (self.N, 1))\n",
    "        self.C = self.param(\"C\", lecun_normal(), (1, self.N))\n",
    "        self.D = self.param(\"D\", nn.initializers.ones, (1,))\n",
    "\n",
    "        # Step parameter\n",
    "        self.log_step = self.param(\"log_step\", log_step_initializer(), (1,))\n",
    "\n",
    "        step = np.exp(self.log_step)\n",
    "        self.ssm = discretize(self.A, self.B, self.C, step=step)\n",
    "        self.K = K_conv(*self.ssm, self.l_max)\n",
    "\n",
    "        # RNN cache for long sequences\n",
    "        self.x_k_1 = self.variable(\"cache\", \"cache_x_k\", np.zeros, (self.N,))\n",
    "\n",
    "    def __call__(self, u):\n",
    "        if not self.decode:\n",
    "            # CNN Mode\n",
    "            return causal_convolution(u, self.K) + self.D * u\n",
    "        else:\n",
    "            # RNN Mode\n",
    "            x_k, y_s = scan_SSM(*self.ssm, u[:, np.newaxis], self.x_k_1.value)\n",
    "            if self.is_mutable_collection(\"cache\"):\n",
    "                self.x_k_1.value = x_k\n",
    "            return y_s.reshape(-1).real + self.D * u"
   ]
  }
 ],
 "metadata": {
  "kernelspec": {
   "display_name": "Python 3",
   "language": "python",
   "name": "python3"
  },
  "language_info": {
   "codemirror_mode": {
    "name": "ipython",
    "version": 3
   },
   "file_extension": ".py",
   "mimetype": "text/x-python",
   "name": "python",
   "nbconvert_exporter": "python",
   "pygments_lexer": "ipython3",
   "version": "3.11.7"
  }
 },
 "nbformat": 4,
 "nbformat_minor": 2
}
