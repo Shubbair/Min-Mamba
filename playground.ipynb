{
 "cells": [
  {
   "cell_type": "markdown",
   "metadata": {},
   "source": [
    "# Mamba Architecture\n",
    "<img src=\"assets/mamba_architecture.png\"/>"
   ]
  },
  {
   "cell_type": "markdown",
   "metadata": {},
   "source": [
    "as we can see from the architecture the new is \n",
    "**SSM (Structured State Space Model)** : \n",
    "are at the core of Mamba, so it is important to note how they work. You can think of them as the replacement for the self attention mechanism in a transformer,<br/><br/>\n",
    "\n",
    "A state space model takes in a 1D input sequence, maps to a N-D latent space and then projects back to a 1D output sequence.<br/><br/>\n",
    "<img src=\"assets/statespace.png\" width=\"50%\"/>\n",
    "<br/><br/>\n",
    "**SSMs** like S4 can be defined as through these equations: \n",
    "\n",
    "\\begin{align*}\n",
    "h'(t) &= Ah(t) + Bx(t) \\\\\n",
    "y(t) &= Ch(t)\n",
    "\\end{align*}\n",
    "\n",
    "the first equation : \n",
    "<img src=\"assets/ht.png\"/>\n",
    "\n",
    "the second equation : \n",
    "<img src=\"assets/yt.png\"/>\n"
   ]
  },
  {
   "cell_type": "code",
   "execution_count": null,
   "metadata": {
    "vscode": {
     "languageId": "plaintext"
    }
   },
   "outputs": [],
   "source": []
  }
 ],
 "metadata": {
  "language_info": {
   "name": "python"
  }
 },
 "nbformat": 4,
 "nbformat_minor": 2
}
