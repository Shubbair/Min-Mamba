{
 "cells": [
  {
   "cell_type": "code",
   "execution_count": 1,
   "metadata": {},
   "outputs": [
    {
     "name": "stdout",
     "output_type": "stream",
     "text": [
      "Requirement already satisfied: pip in /opt/homebrew/lib/python3.11/site-packages (24.0)\n"
     ]
    }
   ],
   "source": [
    "!pip install --upgrade pip"
   ]
  },
  {
   "cell_type": "code",
   "execution_count": 2,
   "metadata": {},
   "outputs": [
    {
     "name": "stdout",
     "output_type": "stream",
     "text": [
      "Requirement already satisfied: jax in /opt/homebrew/lib/python3.11/site-packages (0.4.23)\n",
      "Collecting jax\n",
      "  Downloading jax-0.4.24-py3-none-any.whl.metadata (24 kB)\n",
      "Requirement already satisfied: jaxlib in /opt/homebrew/lib/python3.11/site-packages (0.4.23)\n",
      "Collecting jaxlib\n",
      "  Downloading jaxlib-0.4.24-cp311-cp311-macosx_11_0_arm64.whl.metadata (2.1 kB)\n",
      "Requirement already satisfied: ml-dtypes>=0.2.0 in /opt/homebrew/lib/python3.11/site-packages (from jax) (0.3.2)\n",
      "Requirement already satisfied: numpy>=1.22 in /opt/homebrew/lib/python3.11/site-packages (from jax) (1.26.2)\n",
      "Requirement already satisfied: opt-einsum in /opt/homebrew/lib/python3.11/site-packages (from jax) (3.3.0)\n",
      "Requirement already satisfied: scipy>=1.9 in /opt/homebrew/lib/python3.11/site-packages (from jax) (1.11.0)\n",
      "Downloading jax-0.4.24-py3-none-any.whl (1.8 MB)\n",
      "\u001b[2K   \u001b[90m━━━━━━━━━━━━━━━━━━━━━━━━━━━━━━━━━━━━━━━━\u001b[0m \u001b[32m1.8/1.8 MB\u001b[0m \u001b[31m2.3 MB/s\u001b[0m eta \u001b[36m0:00:00\u001b[0ma \u001b[36m0:00:01\u001b[0m0m\n",
      "\u001b[?25hDownloading jaxlib-0.4.24-cp311-cp311-macosx_11_0_arm64.whl (68.5 MB)\n",
      "\u001b[2K   \u001b[90m━━━━━━━━━━━━━━━━━━━━━━━━━━━━━━━━━━━━━━━━\u001b[0m \u001b[32m68.5/68.5 MB\u001b[0m \u001b[31m429.5 kB/s\u001b[0m eta \u001b[36m0:00:00\u001b[0m00:01\u001b[0m00:04\u001b[0m\n",
      "\u001b[?25hInstalling collected packages: jaxlib, jax\n",
      "  Attempting uninstall: jaxlib\n",
      "    Found existing installation: jaxlib 0.4.23\n",
      "    Uninstalling jaxlib-0.4.23:\n",
      "      Successfully uninstalled jaxlib-0.4.23\n",
      "  Attempting uninstall: jax\n",
      "    Found existing installation: jax 0.4.23\n",
      "    Uninstalling jax-0.4.23:\n",
      "      Successfully uninstalled jax-0.4.23\n",
      "Successfully installed jax-0.4.24 jaxlib-0.4.24\n",
      "Requirement already satisfied: flax in /opt/homebrew/lib/python3.11/site-packages (0.8.0)\n",
      "Collecting flax\n",
      "  Downloading flax-0.8.1-py3-none-any.whl.metadata (10 kB)\n",
      "Requirement already satisfied: numpy>=1.22 in /opt/homebrew/lib/python3.11/site-packages (from flax) (1.26.2)\n",
      "Requirement already satisfied: jax>=0.4.19 in /opt/homebrew/lib/python3.11/site-packages (from flax) (0.4.24)\n",
      "Requirement already satisfied: msgpack in /opt/homebrew/lib/python3.11/site-packages (from flax) (1.0.7)\n",
      "Requirement already satisfied: optax in /opt/homebrew/lib/python3.11/site-packages (from flax) (0.1.8)\n",
      "Requirement already satisfied: orbax-checkpoint in /opt/homebrew/lib/python3.11/site-packages (from flax) (0.5.2)\n",
      "Requirement already satisfied: tensorstore in /opt/homebrew/lib/python3.11/site-packages (from flax) (0.1.52)\n",
      "Requirement already satisfied: rich>=11.1 in /opt/homebrew/lib/python3.11/site-packages (from flax) (13.5.2)\n",
      "Requirement already satisfied: typing-extensions>=4.2 in /opt/homebrew/lib/python3.11/site-packages (from flax) (4.8.0)\n",
      "Requirement already satisfied: PyYAML>=5.4.1 in /opt/homebrew/lib/python3.11/site-packages (from flax) (6.0.1)\n",
      "Requirement already satisfied: ml-dtypes>=0.2.0 in /opt/homebrew/lib/python3.11/site-packages (from jax>=0.4.19->flax) (0.3.2)\n",
      "Requirement already satisfied: opt-einsum in /opt/homebrew/lib/python3.11/site-packages (from jax>=0.4.19->flax) (3.3.0)\n",
      "Requirement already satisfied: scipy>=1.9 in /opt/homebrew/lib/python3.11/site-packages (from jax>=0.4.19->flax) (1.11.0)\n",
      "Requirement already satisfied: markdown-it-py>=2.2.0 in /opt/homebrew/lib/python3.11/site-packages (from rich>=11.1->flax) (3.0.0)\n",
      "Requirement already satisfied: pygments<3.0.0,>=2.13.0 in /Users/shubbair/Library/Python/3.11/lib/python/site-packages (from rich>=11.1->flax) (2.15.1)\n",
      "Requirement already satisfied: absl-py>=0.7.1 in /opt/homebrew/lib/python3.11/site-packages (from optax->flax) (1.4.0)\n",
      "Requirement already satisfied: chex>=0.1.7 in /opt/homebrew/lib/python3.11/site-packages (from optax->flax) (0.1.8)\n",
      "Requirement already satisfied: jaxlib>=0.1.37 in /opt/homebrew/lib/python3.11/site-packages (from optax->flax) (0.4.24)\n",
      "Requirement already satisfied: etils[epath,epy] in /opt/homebrew/lib/python3.11/site-packages (from orbax-checkpoint->flax) (1.5.1)\n",
      "Requirement already satisfied: nest_asyncio in /Users/shubbair/Library/Python/3.11/lib/python/site-packages (from orbax-checkpoint->flax) (1.5.6)\n",
      "Requirement already satisfied: protobuf in /opt/homebrew/lib/python3.11/site-packages (from orbax-checkpoint->flax) (4.25.1)\n",
      "Requirement already satisfied: dm-tree>=0.1.5 in /opt/homebrew/lib/python3.11/site-packages (from chex>=0.1.7->optax->flax) (0.1.8)\n",
      "Requirement already satisfied: toolz>=0.9.0 in /opt/homebrew/lib/python3.11/site-packages (from chex>=0.1.7->optax->flax) (0.12.0)\n",
      "Requirement already satisfied: mdurl~=0.1 in /opt/homebrew/lib/python3.11/site-packages (from markdown-it-py>=2.2.0->rich>=11.1->flax) (0.1.2)\n",
      "Requirement already satisfied: fsspec in /opt/homebrew/lib/python3.11/site-packages (from etils[epath,epy]->orbax-checkpoint->flax) (2023.6.0)\n",
      "Requirement already satisfied: importlib_resources in /opt/homebrew/lib/python3.11/site-packages (from etils[epath,epy]->orbax-checkpoint->flax) (6.1.0)\n",
      "Requirement already satisfied: zipp in /opt/homebrew/lib/python3.11/site-packages (from etils[epath,epy]->orbax-checkpoint->flax) (3.16.2)\n",
      "Downloading flax-0.8.1-py3-none-any.whl (677 kB)\n",
      "\u001b[2K   \u001b[90m━━━━━━━━━━━━━━━━━━━━━━━━━━━━━━━━━━━━━━━━\u001b[0m \u001b[32m677.6/677.6 kB\u001b[0m \u001b[31m1.8 MB/s\u001b[0m eta \u001b[36m0:00:00\u001b[0m00:01\u001b[0m00:01\u001b[0mm\n",
      "\u001b[?25hInstalling collected packages: flax\n",
      "  Attempting uninstall: flax\n",
      "    Found existing installation: flax 0.8.0\n",
      "    Uninstalling flax-0.8.0:\n",
      "      Successfully uninstalled flax-0.8.0\n",
      "Successfully installed flax-0.8.1\n"
     ]
    }
   ],
   "source": [
    "!pip install --upgrade jax jaxlib\n",
    "!pip install --upgrade flax"
   ]
  },
  {
   "cell_type": "markdown",
   "metadata": {},
   "source": [
    "# Mamba Architecture\n",
    "<img src=\"assets/mamba_architecture.png\"/>"
   ]
  },
  {
   "cell_type": "markdown",
   "metadata": {},
   "source": [
    "## SSM Representaion 3\n",
    "<img src=\"assets/ssm.png\"/>\n",
    "\n",
    "#### Continuous\n",
    "\n",
    "\\begin{align}\n",
    "x`(t) &= A x(t) + B u(t) \\\\\n",
    "y(t) &= C x(t) + D u(t)\n",
    "\\end{align}\n",
    "\n",
    "#### Recurrent\n",
    "\n",
    "\\begin{align}\n",
    "x(t) &= \\overline{A} x_{(t-1)} + \\overline{B} u_{(t)} \\\\\n",
    "y(t) &= C x(t) + D u(t)\n",
    "\\end{align}\n",
    "\n",
    "### Convolutional\n",
    "\n",
    "\\begin{align}\n",
    "y(t) &= \\overline{K} * u(t)\n",
    "\\end{align}"
   ]
  },
  {
   "cell_type": "code",
   "execution_count": null,
   "metadata": {},
   "outputs": [],
   "source": []
  },
  {
   "cell_type": "markdown",
   "metadata": {},
   "source": [
    "## Lets Implement SSM here"
   ]
  },
  {
   "cell_type": "code",
   "execution_count": null,
   "metadata": {},
   "outputs": [],
   "source": []
  },
  {
   "cell_type": "code",
   "execution_count": null,
   "metadata": {},
   "outputs": [],
   "source": []
  }
 ],
 "metadata": {
  "kernelspec": {
   "display_name": "Python 3",
   "language": "python",
   "name": "python3"
  },
  "language_info": {
   "codemirror_mode": {
    "name": "ipython",
    "version": 3
   },
   "file_extension": ".py",
   "mimetype": "text/x-python",
   "name": "python",
   "nbconvert_exporter": "python",
   "pygments_lexer": "ipython3",
   "version": "3.11.7"
  }
 },
 "nbformat": 4,
 "nbformat_minor": 2
}
