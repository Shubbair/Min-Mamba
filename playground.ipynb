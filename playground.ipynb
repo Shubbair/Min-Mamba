{
 "cells": [
  {
   "cell_type": "code",
   "execution_count": 13,
   "metadata": {},
   "outputs": [
    {
     "name": "stdout",
     "output_type": "stream",
     "text": [
      "^C\n",
      "\u001b[31mERROR: Operation cancelled by user\u001b[0m\u001b[31m\n",
      "\u001b[0m\n",
      "\u001b[1m[\u001b[0m\u001b[34;49mnotice\u001b[0m\u001b[1;39;49m]\u001b[0m\u001b[39;49m A new release of pip is available: \u001b[0m\u001b[31;49m23.3.1\u001b[0m\u001b[39;49m -> \u001b[0m\u001b[32;49m23.3.2\u001b[0m\n",
      "\u001b[1m[\u001b[0m\u001b[34;49mnotice\u001b[0m\u001b[1;39;49m]\u001b[0m\u001b[39;49m To update, run: \u001b[0m\u001b[32;49mpython3.11 -m pip install --upgrade pip\u001b[0m\n"
     ]
    }
   ],
   "source": [
    "!pip install --upgrade -q jax jaxlib"
   ]
  },
  {
   "cell_type": "markdown",
   "metadata": {},
   "source": [
    "# Mamba Architecture\n",
    "<img src=\"assets/mamba_architecture.png\"/>"
   ]
  },
  {
   "cell_type": "markdown",
   "metadata": {},
   "source": [
    "as we can see from the architecture the new is \n",
    "**SSM (Structured State Space Model)** : \n",
    "are at the core of Mamba, so it is important to note how they work. You can think of them as the replacement for the self attention mechanism in a transformer,<br/><br/>\n",
    "\n",
    "A state space model takes in a 1D input sequence, maps to a N-D latent space and then projects back to a 1D output sequence.<br/><br/>\n",
    "<img src=\"assets/statespace.png\" width=\"50%\"/>\n",
    "<br/><br/>\n",
    "<h1>SSMs</h1>\n",
    "like S4 can be defined as through these equations: \n",
    "\n",
    "\\begin{align*}\n",
    "h'(t) &= Ah(t) + Bx(t) \\\\\n",
    "y(t) &= Ch(t)\n",
    "\\end{align*}\n",
    "\n",
    "<p>the first equation : </p>\n",
    "<img src=\"assets/ht.png\"/>\n",
    "\n",
    "<p>the second equation : </p>\n",
    "<img src=\"assets/yt.png\" width=\"80%\"/>\n"
   ]
  },
  {
   "cell_type": "markdown",
   "metadata": {},
   "source": [
    "## Lets Implement SSM here"
   ]
  },
  {
   "cell_type": "code",
   "execution_count": 23,
   "metadata": {},
   "outputs": [],
   "source": [
    "def random_SSM(N):\n",
    "    a_r, b_r, c_r = jax.random.split(key, 3)\n",
    "    A = jax.random.uniform(a_r, (N, N))\n",
    "    B = jax.random.uniform(b_r, (N, 1))\n",
    "    C = jax.random.uniform(c_r, (1, N))\n",
    "    return A, B, C"
   ]
  },
  {
   "cell_type": "code",
   "execution_count": 24,
   "metadata": {},
   "outputs": [
    {
     "data": {
      "text/plain": [
       "(Array([[0.6013386 , 0.33307862],\n",
       "        [0.08670855, 0.5839832 ]], dtype=float32),\n",
       " Array([[0.02978921],\n",
       "        [0.03150713]], dtype=float32),\n",
       " Array([[0.14587104, 0.45987797]], dtype=float32))"
      ]
     },
     "execution_count": 24,
     "metadata": {},
     "output_type": "execute_result"
    }
   ],
   "source": [
    "random_SSM(2)"
   ]
  },
  {
   "cell_type": "markdown",
   "metadata": {},
   "source": [
    "## Discretize\n",
    "\n",
    "\\begin{align*}\n",
    "    A & = \\exp(\\Delta A) \\\\\n",
    "    B & = (\\Delta A)^{-1} (\\exp(\\Delta A) - I) \\cdot \\Delta B\n",
    "\\end{align*}"
   ]
  },
  {
   "cell_type": "code",
   "execution_count": 13,
   "metadata": {},
   "outputs": [],
   "source": [
    "import jax\n",
    "import numpy as np\n",
    "\n",
    "seed = 1701\n",
    "key = jax.random.PRNGKey(seed)"
   ]
  },
  {
   "cell_type": "code",
   "execution_count": 8,
   "metadata": {},
   "outputs": [],
   "source": [
    "def discretize(A, B, delta):\n",
    "    A_delta = np.exp(A @ delta)\n",
    "    \n",
    "    inverse_delta_A = np.linalg.inv(Delta @ A)\n",
    "    B_delta = (A_delta - np.eye(A.shape[0])) @ inverse_delta_A @ Delta @ B\n",
    "     \n",
    "    return A_delta, B_delta"
   ]
  },
  {
   "cell_type": "code",
   "execution_count": 9,
   "metadata": {},
   "outputs": [],
   "source": [
    "# Example usage\n",
    "D = 3  # Replace with actual dimensions\n",
    "N = 3  # Replace with actual dimensions\n",
    "\n",
    "A = np.random.rand(D, N)  # Replace with actual values\n",
    "Delta = np.random.rand(D, D)  # Replace with actual values\n",
    "B = np.random.rand(D, N)  # Replace with actual values\n",
    "\n",
    "A_delta, B_delta = discretize(A,B,Delta)"
   ]
  },
  {
   "cell_type": "code",
   "execution_count": 10,
   "metadata": {},
   "outputs": [
    {
     "data": {
      "text/plain": [
       "array([[1.39413233, 3.13766258, 2.30211207],\n",
       "       [1.44236549, 2.82693333, 2.15917945],\n",
       "       [1.33927042, 1.99111211, 1.71609092]])"
      ]
     },
     "execution_count": 10,
     "metadata": {},
     "output_type": "execute_result"
    }
   ],
   "source": [
    "A_delta"
   ]
  },
  {
   "cell_type": "code",
   "execution_count": 11,
   "metadata": {},
   "outputs": [
    {
     "data": {
      "text/plain": [
       "array([[0.48978847, 0.36320954, 0.64564645],\n",
       "       [0.68602276, 0.34511721, 0.34106767],\n",
       "       [0.64623685, 0.28620197, 0.01209012]])"
      ]
     },
     "execution_count": 11,
     "metadata": {},
     "output_type": "execute_result"
    }
   ],
   "source": [
    "A"
   ]
  },
  {
   "cell_type": "code",
   "execution_count": null,
   "metadata": {},
   "outputs": [],
   "source": []
  }
 ],
 "metadata": {
  "kernelspec": {
   "display_name": "Python 3",
   "language": "python",
   "name": "python3"
  },
  "language_info": {
   "codemirror_mode": {
    "name": "ipython",
    "version": 3
   },
   "file_extension": ".py",
   "mimetype": "text/x-python",
   "name": "python",
   "nbconvert_exporter": "python",
   "pygments_lexer": "ipython3",
   "version": "3.11.7"
  }
 },
 "nbformat": 4,
 "nbformat_minor": 2
}
